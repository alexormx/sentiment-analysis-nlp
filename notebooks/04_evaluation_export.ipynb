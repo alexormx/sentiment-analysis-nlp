{
 "cells": [
  {
   "cell_type": "markdown",
   "id": "1bff6ca3",
   "metadata": {},
   "source": [
    "# 📗 04 - Evaluación Final y Exportación del Modelo\n",
    "\n",
    "Este notebook evalúa el modelo entrenado en el paso 03 utilizando el conjunto de prueba (`X_test`, `y_test`) y reporta las métricas finales. También se exporta el modelo para uso futuro y se registran las métricas en MLflow.\n"
   ]
  },
  {
   "cell_type": "markdown",
   "id": "6d72432b",
   "metadata": {},
   "source": [
    "### 📌 1. Cargar librerías necesarias"
   ]
  },
  {
   "cell_type": "code",
   "execution_count": 2,
   "id": "20d632a0",
   "metadata": {},
   "outputs": [],
   "source": [
    "import re\n",
    "import numpy as np\n",
    "import pickle\n",
    "import tensorflow as tf\n",
    "from tensorflow.keras.preprocessing.sequence import pad_sequences\n",
    "from sklearn.metrics import classification_report, confusion_matrix\n",
    "import pandas as pd\n",
    "import re\n",
    "import seaborn as sns\n",
    "import matplotlib.pyplot as plt"
   ]
  },
  {
   "cell_type": "markdown",
   "id": "7efb7c43",
   "metadata": {},
   "source": [
    "### 📂 2. Cargar y limpiar el archivo de prueba .ft.txt\n",
    "Se extraen los textos y etiquetas, y se realiza limpieza básica."
   ]
  },
  {
   "cell_type": "code",
   "execution_count": 3,
   "id": "834ebef6",
   "metadata": {},
   "outputs": [],
   "source": [
    "#  Cargar y limpiar textos del archivo .ft.txt\n",
    "def clean_text(text):\n",
    "    text = text.lower()\n",
    "    text = re.sub(r\"<.*?>\", \"\", text)  # quitar HTML\n",
    "    text = re.sub(r\"[^a-zA-Z0-9\\s]\", \"\", text)  # quitar puntuación\n",
    "    text = re.sub(r\"\\s+\", \" \", text)  # espacios duplicados\n",
    "    return text.strip()\n",
    "\n",
    "texts = []\n",
    "labels = []\n",
    "\n",
    "#Leer las líneas directamente\n",
    "test_path = \"../data/test.ft.txt\"\n",
    "\n",
    "with open(test_path, \"r\", encoding=\"utf-8\") as f:\n",
    "    # Leer 100K líneas aleatorias del archivo\n",
    "    lines = f.readlines()\n",
    "\n",
    "# Procesar cada línea para extraer la etiqueta y el texto\n",
    "data = []\n",
    "for line in lines:\n",
    "    if line.startswith(\"__label__\"):\n",
    "        label, text = line.strip().split(\" \", 1)\n",
    "        label = int(label.replace(\"__label__\", \"\")) - 1 # Convertir a 0 o 1\n",
    "        data.append((text, label))"
   ]
  },
  {
   "cell_type": "markdown",
   "id": "1f53bf2a",
   "metadata": {},
   "source": [
    "### 🧼 3. Limpiar los textos\n",
    "Se aplica limpieza textual con expresiones regulares."
   ]
  },
  {
   "cell_type": "code",
   "execution_count": 4,
   "id": "0b17e565",
   "metadata": {},
   "outputs": [],
   "source": [
    "# Crear DataFrame\n",
    "df = pd.DataFrame(data, columns=[\"text\", \"label\"])\n",
    "\n",
    "\n",
    "def clean_text(text):\n",
    "    text = text.lower()\n",
    "    text = re.sub(r\"<.*?>\", \"\", text)  # eliminar etiquetas HTML\n",
    "    text = re.sub(r\"[^a-zA-Z0-9\\s]\", \"\", text)  # quitar puntuación\n",
    "    text = re.sub(r\"\\s+\", \" \", text)  # espacios extra\n",
    "    return text.strip()\n",
    "\n",
    "df[\"clean_text\"] = df[\"text\"].apply(clean_text)\n",
    "df_clean = df[[\"clean_text\", \"label\"]]  # Asegúrate de que 'label' sea tu columna de etiquetas\n",
    "\n",
    "X_test = df_clean[\"clean_text\"]"
   ]
  },
  {
   "cell_type": "markdown",
   "id": "b7dabae7",
   "metadata": {},
   "source": [
    "### 🧪 4. Vectorizar textos con el Tokenizer original"
   ]
  },
  {
   "cell_type": "code",
   "execution_count": 5,
   "id": "9a4ab808",
   "metadata": {},
   "outputs": [],
   "source": [
    "\n",
    "#  Cargar tokenizer original\n",
    "with open(\"../data/tokenizer.pkl\", \"rb\") as f:\n",
    "    tokenizer = pickle.load(f)\n",
    "\n",
    "# Vectorizar igual que en entrenamiento\n",
    "sequences_test = tokenizer.texts_to_sequences(X_test)\n",
    "X_test = pad_sequences(sequences_test, maxlen=200, padding=\"post\", truncating=\"post\")\n",
    "\n"
   ]
  },
  {
   "cell_type": "markdown",
   "id": "810b112b",
   "metadata": {},
   "source": [
    "### 📊 5. Preparar etiquetas reales (y_test)"
   ]
  },
  {
   "cell_type": "code",
   "execution_count": 6,
   "id": "d6f654c1",
   "metadata": {},
   "outputs": [],
   "source": [
    "#  Obtener labels reales\n",
    "y_test = df_clean[\"label\"].values.astype(\"float32\")"
   ]
  },
  {
   "cell_type": "markdown",
   "id": "52268410",
   "metadata": {},
   "source": [
    "### 🧠 6. Cargar modelo entrenado"
   ]
  },
  {
   "cell_type": "code",
   "execution_count": 7,
   "id": "f333a5cd",
   "metadata": {},
   "outputs": [],
   "source": [
    "#  Cargar modelo\n",
    "model = tf.keras.models.load_model(\"../models/sentiment_model.keras\")"
   ]
  },
  {
   "cell_type": "markdown",
   "id": "33573a49",
   "metadata": {},
   "source": [
    "### 🧪 7. Evaluar modelo"
   ]
  },
  {
   "cell_type": "code",
   "execution_count": 8,
   "id": "3b80dd90",
   "metadata": {},
   "outputs": [
    {
     "name": "stderr",
     "output_type": "stream",
     "text": [
      "2025-07-19 10:49:39.503595: W tensorflow/tsl/framework/cpu_allocator_impl.cc:83] Allocation of 320000000 exceeds 10% of free system memory.\n"
     ]
    },
    {
     "name": "stdout",
     "output_type": "stream",
     "text": [
      "12500/12500 [==============================] - 777s 62ms/step - loss: 0.2195 - accuracy: 0.9148\n",
      "\n",
      "✅ Test Loss: 0.2195\n",
      "✅ Test Accuracy: 91.48%\n",
      "\n"
     ]
    }
   ],
   "source": [
    "#  Evaluar\n",
    "loss, accuracy = model.evaluate(X_test, y_test)\n",
    "print(f\"\\n✅ Test Loss: {loss:.4f}\")\n",
    "print(f\"✅ Test Accuracy: {accuracy:.2%}\\n\")"
   ]
  },
  {
   "cell_type": "markdown",
   "id": "d9525de3",
   "metadata": {},
   "source": [
    "### ✅ 8. Predecir y clasificar"
   ]
  },
  {
   "cell_type": "code",
   "execution_count": 9,
   "id": "ee257e5b",
   "metadata": {},
   "outputs": [
    {
     "name": "stderr",
     "output_type": "stream",
     "text": [
      "2025-07-19 11:02:50.462460: W tensorflow/tsl/framework/cpu_allocator_impl.cc:83] Allocation of 320000000 exceeds 10% of free system memory.\n"
     ]
    },
    {
     "name": "stdout",
     "output_type": "stream",
     "text": [
      "12500/12500 [==============================] - 781s 62ms/step\n"
     ]
    }
   ],
   "source": [
    "# Obtener probabilidades y predicciones\n",
    "y_probs = model.predict(X_test, verbose=1)  # Probabilidades\n",
    "if y_probs.shape[1] == 1:  # Si es salida sigmoid\n",
    "    y_pred = (y_probs > 0.5).astype(\"int32\").flatten()\n",
    "    class_scores = y_probs.flatten()\n",
    "else:  # Si es softmax\n",
    "    y_pred = np.argmax(y_probs, axis=1)\n",
    "    class_scores = y_probs[:, 1]  # Clase positiva (1)"
   ]
  },
  {
   "cell_type": "markdown",
   "id": "f7e622d8",
   "metadata": {},
   "source": [
    "### 📈 9. Reporte de Clasificación"
   ]
  },
  {
   "cell_type": "code",
   "execution_count": 11,
   "id": "dee1dce6",
   "metadata": {},
   "outputs": [
    {
     "name": "stdout",
     "output_type": "stream",
     "text": [
      "📊 Classification Report:\n",
      "              precision    recall  f1-score   support\n",
      "\n",
      "    Negativo       0.92      0.91      0.91    200000\n",
      "    Positivo       0.91      0.92      0.92    200000\n",
      "\n",
      "    accuracy                           0.91    400000\n",
      "   macro avg       0.91      0.91      0.91    400000\n",
      "weighted avg       0.91      0.91      0.91    400000\n",
      "\n",
      "F1-score (macro): 0.9148\n"
     ]
    }
   ],
   "source": [
    "print(\"📊 Classification Report:\")\n",
    "print(classification_report(y_test, y_pred, target_names=[\"Negativo\", \"Positivo\"]))\n",
    "\n",
    "from sklearn.metrics import f1_score\n",
    "\n",
    "f1 = f1_score(y_test, y_pred, average='macro')\n",
    "print(f\"F1-score (macro): {f1:.4f}\")"
   ]
  },
  {
   "cell_type": "markdown",
   "id": "378bc3f4",
   "metadata": {},
   "source": [
    "### 🔥 10. Matriz de Confusión"
   ]
  },
  {
   "cell_type": "code",
   "execution_count": 12,
   "id": "1fb1af0a",
   "metadata": {},
   "outputs": [
    {
     "data": {
      "image/png": "[encoded data removed]",
      "text/plain": [
       "<Figure size 640x480 with 2 Axes>"
      ]
     },
     "metadata": {},
     "output_type": "display_data"
    }
   ],
   "source": [
    "cm = confusion_matrix(y_test, y_pred)\n",
    "sns.heatmap(cm, annot=True, fmt='d', cmap=\"Blues\", xticklabels=[\"Negativa\", \"Positiva\"], yticklabels=[\"Negativa\", \"Positiva\"])\n",
    "plt.xlabel(\"Predicción\")\n",
    "plt.ylabel(\"Real\")\n",
    "plt.title(\"Matriz de Confusión\")\n",
    "plt.show()"
   ]
  },
  {
   "cell_type": "markdown",
   "id": "03470e59",
   "metadata": {},
   "source": [
    "### 💾 11. Exportar resultados a CSV"
   ]
  },
  {
   "cell_type": "code",
   "execution_count": 13,
   "id": "2373de34",
   "metadata": {},
   "outputs": [
    {
     "name": "stdout",
     "output_type": "stream",
     "text": [
      "📁 Archivo guardado en: ../reports/predictions_results.csv\n"
     ]
    }
   ],
   "source": [
    "#  Exportar a CSV\n",
    "df_results = pd.DataFrame({\n",
    "    \"text\": df_clean[\"clean_text\"],\n",
    "    \"true_label\": y_test.astype(int),\n",
    "    \"predicted_label\": y_pred,\n",
    "    \"probability\": class_scores\n",
    "})\n",
    "\n",
    "df_results.to_csv(\"../reports/predictions_results.csv\", index=False)\n",
    "print(\"📁 Archivo guardado en: ../reports/predictions_results.csv\")"
   ]
  },
  {
   "cell_type": "markdown",
   "id": "d217fec3",
   "metadata": {},
   "source": [
    "### 📌 Conclusiones\n",
    "\n",
    "El modelo de clasificación de sentimientos, basado en una red LSTM con embeddings, alcanzó un desempeño sobresaliente al ser evaluado con el conjunto de prueba.\n",
    "\n",
    "- 🔹 **Accuracy global:** 91.48%  \n",
    "- 🔹 **F1-score (macro):** 91.48%\n",
    "\n",
    "Este resultado indica que el modelo predice correctamente 9 de cada 10 reseñas, balanceando adecuadamente precisión y recall en ambas clases (positiva y negativa).\n",
    "\n",
    "#### 📊 Matriz de confusión:\n",
    "|                       | Predicho: Negativa | Predicho: Positiva |\n",
    "|-----------------------|--------------------|---------------------|\n",
    "| **Real: Negativa**    | 181,788            | 18,212              |\n",
    "| **Real: Positiva**    | 15,854             | 184,146             |\n",
    "\n",
    "A partir de esta matriz, se puede observar que:\n",
    "\n",
    "- El modelo tiene **ligeramente más falsos positivos (18,212)** que falsos negativos (15,854), lo cual indica una ligera tendencia a sobrepredecir reseñas como positivas.\n",
    "- Aun así, el **número de verdaderos positivos y verdaderos negativos es significativamente alto**, lo que confirma que el modelo está capturando correctamente los patrones semánticos clave en ambos tipos de reseñas.\n",
    "\n",
    "#### ✅ Consideraciones Finales:\n",
    "\n",
    "- No se observa un sesgo importante hacia alguna clase, lo que refleja un buen aprendizaje durante el entrenamiento.\n",
    "- La combinación de una arquitectura secuencial con LSTM y capas de embedding resultó efectiva para este problema de análisis de sentimientos.\n",
    "- Este modelo es una buena base para mejoras futuras como embeddings preentrenados (GloVe, BERT) o técnicas de atención.\n",
    "\n",
    "En resumen, el modelo demuestra una **excelente capacidad de generalización**, con métricas sólidas y errores balanceados, lo que lo hace adecuado para usarse en entornos reales o como punto de partida para proyectos más avanzados.\n",
    "\n"
   ]
  }
 ],
 "metadata": {
  "kernelspec": {
   "display_name": "venv",
   "language": "python",
   "name": "python3"
  },
  "language_info": {
   "codemirror_mode": {
    "name": "ipython",
    "version": 3
   },
   "file_extension": ".py",
   "mimetype": "text/x-python",
   "name": "python",
   "nbconvert_exporter": "python",
   "pygments_lexer": "ipython3",
   "version": "3.8.10"
  }
 },
 "nbformat": 4,
 "nbformat_minor": 5
}
